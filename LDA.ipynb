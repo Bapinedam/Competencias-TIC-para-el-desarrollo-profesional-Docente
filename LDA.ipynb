{
 "cells": [
  {
   "cell_type": "markdown",
   "id": "df84cddb",
   "metadata": {},
   "source": [
    "# Análisis de Tópicos Latentes \n",
    "## Mediante Latent Dirichlet Allocation"
   ]
  },
  {
   "cell_type": "markdown",
   "id": "91784cd5",
   "metadata": {},
   "source": [
    "Ruta de trabajo\n",
    "\n",
    "1. Obtener acceso a la información\n",
    "2. Organizar el corpus de trabajo\n",
    "3. Pre procesamiento de datos\n",
    "4. LDA\n",
    "5. Resultados"
   ]
  },
  {
   "cell_type": "markdown",
   "id": "b58a6d4b",
   "metadata": {},
   "source": [
    "### 1. Acceso a la información"
   ]
  },
  {
   "cell_type": "code",
   "execution_count": 1,
   "id": "127aabb7",
   "metadata": {},
   "outputs": [],
   "source": [
    "from pydrive2.auth import GoogleAuth"
   ]
  },
  {
   "cell_type": "code",
   "execution_count": 2,
   "id": "3f485161",
   "metadata": {},
   "outputs": [],
   "source": [
    "gauth = GoogleAuth()\n",
    "gauth.LocalWebserverAuth()"
   ]
  },
  {
   "cell_type": "code",
   "execution_count": 3,
   "id": "9064e1f2",
   "metadata": {},
   "outputs": [],
   "source": [
    "from pydrive2.auth import GoogleAuth\n",
    "from pydrive2.drive import GoogleDrive\n",
    "\n",
    "\n",
    "directorio_credenciales = 'credentials_module.json'\n",
    "\n",
    "# INICIAR SESION\n",
    "def login():\n",
    "    GoogleAuth.DEFAULT_SETTINGS['client_config_file'] = directorio_credenciales\n",
    "    gauth = GoogleAuth()\n",
    "    gauth.LoadCredentialsFile(directorio_credenciales)\n",
    "    \n",
    "    if gauth.credentials is None:\n",
    "        gauth.LocalWebserverAuth(port_numbers=[8092])\n",
    "    elif gauth.access_token_expired:\n",
    "        gauth.Refresh()\n",
    "    else:\n",
    "        gauth.Authorize()\n",
    "        \n",
    "    gauth.SaveCredentialsFile(directorio_credenciales)\n",
    "    credenciales = GoogleDrive(gauth)\n",
    "    return credenciales\n",
    "\n",
    "def crear_archivo_texto(nombre_archivo,contenido,id_folder):\n",
    "    credenciales = login()\n",
    "    archivo = credenciales.CreateFile({'title': nombre_archivo,\\\n",
    "                                       'parents': [{\"kind\": \"drive#fileLink\",\\\n",
    "                                                    \"id\": id_folder}]})\n",
    "    archivo.SetContentString('Hey MoonCoders!')\n",
    "    archivo.Upload()\n",
    "\n",
    "\n",
    "# SUBIR UN ARCHIVO A DRIVE\n",
    "def subir_archivo(ruta_archivo,id_folder):\n",
    "    credenciales = login()\n",
    "    archivo = credenciales.CreateFile({'parents': [{\"kind\": \"drive#fileLink\",\\\n",
    "                                                    \"id\": id_folder}]})\n",
    "    archivo['title'] = ruta_archivo.split(\"/\")[-1]\n",
    "    archivo.SetContentFile(ruta_archivo)\n",
    "    archivo.Upload()\n",
    "\n",
    "# DESCARGAR UN ARCHIVO DE DRIVE POR ID\n",
    "def bajar_archivo_por_id(id_drive,ruta_descarga):\n",
    "    credenciales = login()\n",
    "    archivo = credenciales.CreateFile({'id': id_drive}) \n",
    "    nombre_archivo = archivo['title']\n",
    "    archivo.GetContentFile(ruta_descarga + nombre_archivo)\n",
    "\n",
    "# BUSCAR ARCHIVOS\n",
    "def busca(query):\n",
    "    resultado = []\n",
    "    credenciales = login()\n",
    "    # Archivos con el nombre 'mooncode': title = 'mooncode'\n",
    "    # Archivos que contengan 'mooncode' y 'mooncoders': title contains 'mooncode' and title contains 'mooncoders'\n",
    "    # Archivos que NO contengan 'mooncode': not title contains 'mooncode'\n",
    "    # Archivos que contengan 'mooncode' dentro del archivo: fullText contains 'mooncode'\n",
    "    # Archivos en el basurero: trashed=true\n",
    "    # Archivos que se llamen 'mooncode' y no esten en el basurero: title = 'mooncode' and trashed = false\n",
    "    lista_archivos = credenciales.ListFile({'q': query}).GetList()\n",
    "    for f in lista_archivos:\n",
    "        # ID Drive\n",
    "        print('ID Drive:',f['id'])\n",
    "        # Link de visualizacion embebido\n",
    "        print('Link de visualizacion embebido:',f['embedLink'])\n",
    "        # Link de descarga\n",
    "        print('Link de descarga:',f['downloadUrl'])\n",
    "        # Nombre del archivo\n",
    "        print('Nombre del archivo:',f['title'])\n",
    "        # Tipo de archivo\n",
    "        print('Tipo de archivo:',f['mimeType'])\n",
    "        # Esta en el basurero\n",
    "        print('Esta en el basurero:',f['labels']['trashed'])\n",
    "        # Fecha de creacion\n",
    "        print('Fecha de creacion:',f['createdDate'])\n",
    "        # Fecha de ultima modificacion\n",
    "        print('Fecha de ultima modificacion:',f['modifiedDate'])\n",
    "        # Version\n",
    "        print('Version:',f['version'])\n",
    "        # Tamanio\n",
    "        print('Tamanio:',f['fileSize'])\n",
    "        resultado.append(f)\n",
    "    \n",
    "    return resultado\n",
    "\n",
    "# DESCARGAR UN ARCHIVO DE DRIVE POR NOMBRE\n",
    "def bajar_acrchivo_por_nombre(nombre_archivo,ruta_descarga):\n",
    "    credenciales = login()\n",
    "    lista_archivos = credenciales.ListFile({'q': \"title = '\" + nombre_archivo + \"'\"}).GetList()\n",
    "    if not lista_archivos:\n",
    "        print('No se encontro el archivo: ' + nombre_archivo)\n",
    "    archivo = credenciales.CreateFile({'id': lista_archivos[0]['id']}) \n",
    "    archivo.GetContentFile(ruta_descarga + nombre_archivo)\n",
    "\n",
    "# BORRAR/RECUPERAR ARCHIVOS\n",
    "def borrar_recuperar(id_archivo):\n",
    "    credenciales = login()\n",
    "    archivo = credenciales.CreateFile({'id': id_archivo})\n",
    "    # MOVER A BASURERO\n",
    "    archivo.Trash()\n",
    "    # SACAR DE BASURERO\n",
    "    archivo.UnTrash()\n",
    "    # ELIMINAR PERMANENTEMENTE\n",
    "    archivo.Delete()\n",
    "\n",
    "# CREAR CARPETA\n",
    "def crear_carpeta(nombre_carpeta,id_folder):\n",
    "    credenciales = login()\n",
    "    folder = credenciales.CreateFile({'title': nombre_carpeta, \n",
    "                               'mimeType': 'application/vnd.google-apps.folder',\n",
    "                               'parents': [{\"kind\": \"drive#fileLink\",\\\n",
    "                                                    \"id\": id_folder}]})\n",
    "    folder.Upload()\n",
    "\n",
    "# MOVER ARCHIVO\n",
    "def mover_archivo(id_archivo,id_folder):\n",
    "    credenciales = login()\n",
    "    archivo = credenciales.CreateFile({'id': id_archivo})\n",
    "    propiedades_ocultas = archivo['parents']\n",
    "    archivo['parents'] = [{'isRoot': False, \n",
    "                           'kind': 'drive#parentReference', \n",
    "                           'id': id_folder, \n",
    "                           'selfLink': 'https://www.googleapis.com/drive/v2/files/' + id_archivo + '/parents/' + id_folder,\n",
    "                           'parentLink': 'https://www.googleapis.com/drive/v2/files/' + id_folder}]\n",
    "    archivo.Upload(param={'supportsTeamDrives': True})\n"
   ]
  },
  {
   "cell_type": "code",
   "execution_count": 4,
   "id": "162242f9",
   "metadata": {},
   "outputs": [],
   "source": [
    "credenciales = login()"
   ]
  },
  {
   "cell_type": "markdown",
   "id": "f98a9cf3",
   "metadata": {},
   "source": [
    "## 2. Organizar el corpus"
   ]
  },
  {
   "cell_type": "code",
   "execution_count": 5,
   "id": "51eb4651",
   "metadata": {},
   "outputs": [],
   "source": [
    "import os"
   ]
  },
  {
   "cell_type": "code",
   "execution_count": 6,
   "id": "d76a2905",
   "metadata": {},
   "outputs": [
    {
     "name": "stdout",
     "output_type": "stream",
     "text": [
      "docs_competencias tiene 114 documentos\n",
      "docs_artistica tiene 37 documentos\n",
      "docs_eduFisica tiene 30 documentos\n",
      "docs_historiaEtica tiene 34 documentos\n"
     ]
    },
    {
     "data": {
      "text/plain": [
       "[None, None, None, None]"
      ]
     },
     "execution_count": 6,
     "metadata": {},
     "output_type": "execute_result"
    }
   ],
   "source": [
    "# Creamos los cuatro directorios que necesitamos\n",
    "\n",
    "os.listdir('./02.Fichas pedagógicas/')\n",
    "\n",
    "docs_competencias = os.listdir('./02.Fichas pedagógicas/Competencias Ciudadanas/')\n",
    "docs_artistica = os.listdir('./02.Fichas pedagógicas/Educación Artística/')\n",
    "docs_eduFisica = os.listdir('./02.Fichas pedagógicas/Educación Física/')\n",
    "docs_historiaEtica = os.listdir('./02.Fichas pedagógicas/Historia y Ética/')\n",
    "\n",
    "lista = [docs_competencias, docs_artistica, docs_eduFisica, docs_historiaEtica]\n",
    "nombres = ['docs_competencias', 'docs_artistica', 'docs_eduFisica', 'docs_historiaEtica']\n",
    "\n",
    "[print(f'{nombres[_]} tiene {len(lista[_])} documentos') for _ in range(len(lista))]"
   ]
  },
  {
   "cell_type": "markdown",
   "id": "62a3b588",
   "metadata": {},
   "source": [
    "Trabajaremos con los documentos de Competencias ciudadanas debido a que es el que más tiene documentos."
   ]
  },
  {
   "cell_type": "code",
   "execution_count": 7,
   "id": "7e0383a3",
   "metadata": {},
   "outputs": [
    {
     "name": "stdout",
     "output_type": "stream",
     "text": [
      "Proyecto de vida a partir del reconocimiento del saber popular, en la Institución Educativa Técnica Enrique Olaya Herrera.\n",
      "\n",
      "\n",
      "\n",
      "Docentes: \n",
      "\n",
      "\n",
      "\n",
      "Luz Dary Rincón Molina  \n",
      "\n",
      "Olga Mariela González López  \n",
      "\n",
      "Solangel Sierra Rodríguez\n",
      "\n",
      "\n",
      "\n",
      "Titulo:    Tejiendo Saberes Guatecanos\n",
      "\n",
      "\n",
      "\n",
      "Es necesario que los estudiantes reconozcan su entorno, familiar, social, cultural, y natural a partir del saber popular para fortalecer sus habilidades socioemocionales.\n",
      "\n",
      "\n",
      "\n",
      "\n",
      "\n",
      "Los objetivos de aprendizaje son:  \n",
      "\n",
      "\n",
      "\n",
      "1. Reconocer y valorar su entorno y los saberes populares de su región.\n",
      "\n",
      "2. Fortalecer la autoestima de los estudiantes a partir de la identidad de su región\n",
      "\n",
      "3. Incrementar el uso y apropiación de herramientas tecnológicas en educación.\n",
      "\n",
      "4.Fomentar la investigación, las competencias ciudadanas, las competencias comunicativas, las habilidades socioemocionales y la construcción de proyectos de vida en los estudiantes.\n",
      "\n",
      "\n",
      "\n",
      "Competencias a desarrollar:\n",
      "\n",
      "Ciudadanas\n",
      "\n",
      "Investigativas\n",
      "\n",
      "Socioemocionales\n",
      "\n",
      "Comunicativas\n",
      "\n",
      "\n",
      "\n",
      "\n",
      "\n",
      "Recursos: \n",
      "\n",
      "Recursos Humanos: Los estudiantes, el equipo de trabajo (3 docentes),  padres, directivos y comunidad en general.  \n",
      "\n",
      "\n",
      "\n",
      "Recursos Tecnológicos: Internet, computadores, Celulares, Equipos encontrados en los hogares de los estudiantes.     Encuentros sincrónicos y asincrónicos\n",
      "\n",
      "OVA o REC\n",
      "\n",
      "Se diseñará un Blog de Presentación con los  Recursos Educativos Digitales –RED y Objetos Virtuales de Aprendizaje diseñados por los docentes, durante los 8 meses de duración del curso de acompañamiento en el fortalecimiento de competencias investigativas, tecnológicas y pedagógicas de docentes del sector oficial de educación preescolar, básica y media, además actividades como guías de aprendizaje, crucigramas, sopas de letras, juegos educativos, videos encontrados en la WEB acerca del tema y se realizará un collage de actividades en Padlet de los aportes de los estudiantes en cada etapa.  Se generá contenido de aprendizaje a partir de Videos y cuentos de propuesta de Identidad Guatecana, se anexan en el Blog. En cada etapa se realizará una etapa de consolidación de los aprendizajes a partir de una evaluación formativa, que garantiza el seguimiento del proceso y el análisis particular por parte de los estudiantes.\n",
      "\n",
      "\n",
      "\n",
      "Se realizará una evaluación por cada etapa contenida en el blog, y se realizará un análisis de las estadísticas arrojadas para verificar su efectividad.  Se socializará la propuesta tecnológica y se aplicarán encuestas virtuales a la comunidad de padres de familia, para garantizar el uso efectivo del material digital y el impacto que se genera.}\n",
      "\n",
      "\n",
      "\n",
      "Si, en cada etapa de la propuesta se incluirán actividades en podcast para la población con necesidades de apoyo visual y adaptación de videos con lengua de señas para la población con necesidades de apoyo auditivas.\n",
      "\n",
      "Expectativas:\n",
      "\n",
      "Fortalecer el uso de tecnologías de la informática y la comunicación con estudiantes de preescolar y primarias rurales de la Institución educativa Técnica Enrique Olaya Herrera.\n"
     ]
    }
   ],
   "source": [
    "import docx2txt\n",
    "\n",
    "my_text = docx2txt.process('./02.Fichas pedagógicas/Competencias Ciudadanas/1049795036_40048119.docx')\n",
    "print(my_text)"
   ]
  },
  {
   "cell_type": "code",
   "execution_count": 8,
   "id": "22ac0fc7",
   "metadata": {},
   "outputs": [],
   "source": [
    "import pandas as pd\n",
    "import numpy as np\n",
    "\n",
    "def corpus():\n",
    "    nombres = []\n",
    "    contenido = []\n",
    "    for _ in range(len(docs_competencias)):\n",
    "        if ('./02.Fichas pedagógicas/Competencias Ciudadanas/'+docs_competencias[_])[-5:] == '.docx':\n",
    "            my_text = docx2txt.process('./02.Fichas pedagógicas/Competencias Ciudadanas/'+docs_competencias[_])\n",
    "            nombres.append(docs_competencias[_])\n",
    "            contenido.append(my_text)\n",
    "        \n",
    "    df = pd.DataFrame(list(zip(nombres,contenido)), columns = [\"Nombre Archivo\", \"Contenido\"])\n",
    "    \n",
    "    return df    "
   ]
  },
  {
   "cell_type": "code",
   "execution_count": 9,
   "id": "d5783307",
   "metadata": {},
   "outputs": [
    {
     "data": {
      "text/html": [
       "<div>\n",
       "<style scoped>\n",
       "    .dataframe tbody tr th:only-of-type {\n",
       "        vertical-align: middle;\n",
       "    }\n",
       "\n",
       "    .dataframe tbody tr th {\n",
       "        vertical-align: top;\n",
       "    }\n",
       "\n",
       "    .dataframe thead th {\n",
       "        text-align: right;\n",
       "    }\n",
       "</style>\n",
       "<table border=\"1\" class=\"dataframe\">\n",
       "  <thead>\n",
       "    <tr style=\"text-align: right;\">\n",
       "      <th></th>\n",
       "      <th>Nombre Archivo</th>\n",
       "      <th>Contenido</th>\n",
       "    </tr>\n",
       "  </thead>\n",
       "  <tbody>\n",
       "    <tr>\n",
       "      <th>0</th>\n",
       "      <td>1032439162_14319059.docx</td>\n",
       "      <td>Ficha pedagógica\\n\\n\\n\\nPrimera parte:\\n\\nÁrea...</td>\n",
       "    </tr>\n",
       "    <tr>\n",
       "      <th>1</th>\n",
       "      <td>1049795036_40048119.docx</td>\n",
       "      <td>Proyecto de vida a partir del reconocimiento d...</td>\n",
       "    </tr>\n",
       "    <tr>\n",
       "      <th>2</th>\n",
       "      <td>1052392804_1052392804_7214960.docx</td>\n",
       "      <td>Ficha pedagógica\\n\\n\\n\\nPrimera parte:\\n\\nÁrea...</td>\n",
       "    </tr>\n",
       "    <tr>\n",
       "      <th>3</th>\n",
       "      <td>1053792227.docx</td>\n",
       "      <td>Ficha pedagógica\\n\\n\\n\\nPrimera parte:\\n\\nÁrea...</td>\n",
       "    </tr>\n",
       "    <tr>\n",
       "      <th>4</th>\n",
       "      <td>1057591277_74380062_46356831.docx</td>\n",
       "      <td>Ficha pedagógica\\n\\n\\n\\nPrimera parte:\\n\\nÁrea...</td>\n",
       "    </tr>\n",
       "  </tbody>\n",
       "</table>\n",
       "</div>"
      ],
      "text/plain": [
       "                       Nombre Archivo  \\\n",
       "0            1032439162_14319059.docx   \n",
       "1            1049795036_40048119.docx   \n",
       "2  1052392804_1052392804_7214960.docx   \n",
       "3                     1053792227.docx   \n",
       "4   1057591277_74380062_46356831.docx   \n",
       "\n",
       "                                           Contenido  \n",
       "0  Ficha pedagógica\\n\\n\\n\\nPrimera parte:\\n\\nÁrea...  \n",
       "1  Proyecto de vida a partir del reconocimiento d...  \n",
       "2  Ficha pedagógica\\n\\n\\n\\nPrimera parte:\\n\\nÁrea...  \n",
       "3  Ficha pedagógica\\n\\n\\n\\nPrimera parte:\\n\\nÁrea...  \n",
       "4  Ficha pedagógica\\n\\n\\n\\nPrimera parte:\\n\\nÁrea...  "
      ]
     },
     "execution_count": 9,
     "metadata": {},
     "output_type": "execute_result"
    }
   ],
   "source": [
    "data = corpus()\n",
    "data.head()"
   ]
  },
  {
   "cell_type": "code",
   "execution_count": 18,
   "id": "e75dedf9",
   "metadata": {},
   "outputs": [
    {
     "data": {
      "text/plain": [
       "'Ficha pedagógica\\n\\n\\n\\nPrimera parte:\\n\\nÁrea temática:\\n\\nNombre y apellidos del (los) docente (s):\\n\\n1.\\n\\n2. \\n\\n3. \\n\\nTítulo de la propuesta pedagógica:\\n\\nGrado al que va dirigido:\\n\\nIntroducción\\n\\nDescriba de manera general la intencionalidad del área temática seleccionada, y presente como el uso de RED le permitirán fortalecer la propuesta formativa.\\n\\n\\n\\nLineamientos curriculares y orientaciones pedagógicas\\n\\nRetome los lineamientos curriculares y orientaciones pedagógicas del área de conocimiento en la que va a diseñar su RED u OVA. Indique a continuación, qué competencias busca fortalecer con el uso del recurso a diseñar.\\n\\nObjetivos de aprendizaje:\\n\\nAlgunos tips para redactar objetivos de aprendizaje:\\n\\nQué sean claros, que no confundan al destinatario o conduzcan a varias interpretaciones\\n\\nQué sean medibles, es decir, que se pueda visibilizar el resultado esperado\\n\\nQue sean reales, es decir, que se puedan observar.\\n\\nBusca verbos de acuerdo al objetivo de aprendizaje esperado (apropiación de conceptos, habilidades o destrezas, valores y actitudes).\\n\\nPosible RED a diseñar:\\n\\nSeleccione el o los recursos a diseñar, reemplazando el cuadrado ubicado al lado izquierdo del nombre por una X\\n\\n☐Audio  ☐Video  ☐Imagen  ☐Fotografía  ☐Infografía  ☐PDF   ☐Otro. ¿Cuál? ____________\\n\\n\\n\\nSegunda parte:\\n\\nSecuencia didáctica:\\n\\nPresente la problemática que lo motivó a seleccionar la temática de trabajo.\\n\\nIndique las actividades que espera desarrollar con sus estudiantes y el tiempo que dedicará.\\n\\nTenga presentes las competencias y objetivos que desea fortalecer en los estudiantes. \\n\\nDesarrolle con especial atención la actividad en la que espera hacer uso del RED diseñado.\\n\\nTarea:\\n\\nIndique alguna actividad que le permita al estudiante profundizar la temática abordada con el uso del RED diseñado.\\n\\nEvaluación:\\n\\nIndique qué actividades le permitirán evaluar la temática abordada, así como el impacto del RED diseñado y empleado durante el desarrollo de las actividades.\\n\\nActividades imprimibles:\\n\\nProponga algunas actividades que permitan reforzar el contenido presentado en el RED diseñado, y que se puedan trabajar sin uso de Internet.\\n\\n\\n\\nTercera parte:\\n\\nRetroalimentación de la actividad \\n\\nA partir del ejercicio de implementación, comparta la experiencia de implementación con sus estudiantes, para que sirva de ejemplo a otros docentes\\n\\nGuía del docente\\n\\nIndique algunas recomendaciones para el docente que vaya a utilizar su recurso.  Utilice algunas imágenes que haya tomado durante la implementación para plasmar sus ideas.'"
      ]
     },
     "execution_count": 18,
     "metadata": {},
     "output_type": "execute_result"
    }
   ],
   "source": [
    "data.loc[100,'Contenido']"
   ]
  },
  {
   "cell_type": "markdown",
   "id": "e5088a31",
   "metadata": {},
   "source": [
    "## 3. Pre procesado de datos"
   ]
  },
  {
   "cell_type": "markdown",
   "id": "0b80b632",
   "metadata": {},
   "source": [
    "En principio trabajeremos con todo el contenido, en primer lugar porque hay muchas fichas que no tienen completa la parte que nos interesa y en segundo lugar porque una aproximación desde lo general puede resultar muy util también. \n",
    "\n",
    "Se propone una matriz Tf-IDF para la vectorización ya que le resta valor a las palabras repetidas y se centra en las diferentes, sin embargo, hay que ver su conjunción con el procedimiento de Dirchlet ya que este si usa ambas formas para el análisis. "
   ]
  },
  {
   "cell_type": "code",
   "execution_count": 22,
   "id": "b2e4d915",
   "metadata": {},
   "outputs": [
    {
     "name": "stderr",
     "output_type": "stream",
     "text": [
      "[nltk_data] Downloading package stopwords to C:\\Users\\Brayam\n",
      "[nltk_data]     Pineda\\AppData\\Roaming\\nltk_data...\n",
      "[nltk_data]   Package stopwords is already up-to-date!\n"
     ]
    }
   ],
   "source": [
    "from unidecode import unidecode\n",
    "import re\n",
    "import nltk\n",
    "nltk.download(\"stopwords\")\n",
    "from nltk.corpus import stopwords\n",
    "import spacy\n",
    "nlp = spacy.load('es_core_news_sm')\n",
    "stopwords = stopwords.words(\"spanish\")"
   ]
  },
  {
   "cell_type": "code",
   "execution_count": 23,
   "id": "938f3861",
   "metadata": {},
   "outputs": [],
   "source": [
    "# Funcion nuestra\n",
    "def pre_procesado(texto):\n",
    "    texto = texto.lower()\n",
    "    texto = re.sub(r\"[\\W\\d_]+\", \" \", texto)\n",
    "    texto= unidecode(texto)\n",
    "    texto = [palabra for palabra in texto.split() if palabra not in stopwords]\n",
    "    text = []\n",
    "    for palabra in texto:\n",
    "        palabra = nlp(palabra)\n",
    "        for token in palabra:\n",
    "            text.append(token.lemma_)\n",
    "    return text"
   ]
  },
  {
   "cell_type": "code",
   "execution_count": 24,
   "id": "6d21ac05",
   "metadata": {},
   "outputs": [
    {
     "name": "stdout",
     "output_type": "stream",
     "text": [
      "Wall time: 2min 20s\n"
     ]
    }
   ],
   "source": [
    "%%time\n",
    "data[\"pre_procesado\"] = data[\"Contenido\"].apply(lambda var: pre_procesado(var))"
   ]
  },
  {
   "cell_type": "code",
   "execution_count": 25,
   "id": "f0fa853d",
   "metadata": {},
   "outputs": [
    {
     "data": {
      "text/html": [
       "<div>\n",
       "<style scoped>\n",
       "    .dataframe tbody tr th:only-of-type {\n",
       "        vertical-align: middle;\n",
       "    }\n",
       "\n",
       "    .dataframe tbody tr th {\n",
       "        vertical-align: top;\n",
       "    }\n",
       "\n",
       "    .dataframe thead th {\n",
       "        text-align: right;\n",
       "    }\n",
       "</style>\n",
       "<table border=\"1\" class=\"dataframe\">\n",
       "  <thead>\n",
       "    <tr style=\"text-align: right;\">\n",
       "      <th></th>\n",
       "      <th>Nombre Archivo</th>\n",
       "      <th>Contenido</th>\n",
       "      <th>pre_procesado</th>\n",
       "    </tr>\n",
       "  </thead>\n",
       "  <tbody>\n",
       "    <tr>\n",
       "      <th>0</th>\n",
       "      <td>1032439162_14319059.docx</td>\n",
       "      <td>Ficha pedagógica\\n\\n\\n\\nPrimera parte:\\n\\nÁrea...</td>\n",
       "      <td>[ficha, pedagogico, primero, parte, area, tema...</td>\n",
       "    </tr>\n",
       "    <tr>\n",
       "      <th>1</th>\n",
       "      <td>1049795036_40048119.docx</td>\n",
       "      <td>Proyecto de vida a partir del reconocimiento d...</td>\n",
       "      <td>[proyecto, vida, partir, reconocimiento, saber...</td>\n",
       "    </tr>\n",
       "    <tr>\n",
       "      <th>2</th>\n",
       "      <td>1052392804_1052392804_7214960.docx</td>\n",
       "      <td>Ficha pedagógica\\n\\n\\n\\nPrimera parte:\\n\\nÁrea...</td>\n",
       "      <td>[ficha, pedagogico, primero, parte, area, tema...</td>\n",
       "    </tr>\n",
       "    <tr>\n",
       "      <th>3</th>\n",
       "      <td>1053792227.docx</td>\n",
       "      <td>Ficha pedagógica\\n\\n\\n\\nPrimera parte:\\n\\nÁrea...</td>\n",
       "      <td>[ficha, pedagogico, primero, parte, area, tema...</td>\n",
       "    </tr>\n",
       "    <tr>\n",
       "      <th>4</th>\n",
       "      <td>1057591277_74380062_46356831.docx</td>\n",
       "      <td>Ficha pedagógica\\n\\n\\n\\nPrimera parte:\\n\\nÁrea...</td>\n",
       "      <td>[ficha, pedagogico, primero, parte, area, tema...</td>\n",
       "    </tr>\n",
       "  </tbody>\n",
       "</table>\n",
       "</div>"
      ],
      "text/plain": [
       "                       Nombre Archivo  \\\n",
       "0            1032439162_14319059.docx   \n",
       "1            1049795036_40048119.docx   \n",
       "2  1052392804_1052392804_7214960.docx   \n",
       "3                     1053792227.docx   \n",
       "4   1057591277_74380062_46356831.docx   \n",
       "\n",
       "                                           Contenido  \\\n",
       "0  Ficha pedagógica\\n\\n\\n\\nPrimera parte:\\n\\nÁrea...   \n",
       "1  Proyecto de vida a partir del reconocimiento d...   \n",
       "2  Ficha pedagógica\\n\\n\\n\\nPrimera parte:\\n\\nÁrea...   \n",
       "3  Ficha pedagógica\\n\\n\\n\\nPrimera parte:\\n\\nÁrea...   \n",
       "4  Ficha pedagógica\\n\\n\\n\\nPrimera parte:\\n\\nÁrea...   \n",
       "\n",
       "                                       pre_procesado  \n",
       "0  [ficha, pedagogico, primero, parte, area, tema...  \n",
       "1  [proyecto, vida, partir, reconocimiento, saber...  \n",
       "2  [ficha, pedagogico, primero, parte, area, tema...  \n",
       "3  [ficha, pedagogico, primero, parte, area, tema...  \n",
       "4  [ficha, pedagogico, primero, parte, area, tema...  "
      ]
     },
     "execution_count": 25,
     "metadata": {},
     "output_type": "execute_result"
    }
   ],
   "source": [
    "data.head()"
   ]
  },
  {
   "cell_type": "code",
   "execution_count": 27,
   "id": "a6eec235",
   "metadata": {},
   "outputs": [
    {
     "data": {
      "text/plain": [
       "['proyecto',\n",
       " 'vida',\n",
       " 'partir',\n",
       " 'reconocimiento',\n",
       " 'saber',\n",
       " 'popular',\n",
       " 'institucion',\n",
       " 'educativo',\n",
       " 'tecnicar',\n",
       " 'enrique',\n",
       " 'olair',\n",
       " 'herrerar',\n",
       " 'docente',\n",
       " 'luz',\n",
       " 'dary',\n",
       " 'rincon',\n",
       " 'molina',\n",
       " 'olgar',\n",
       " 'marielar',\n",
       " 'gonzalez',\n",
       " 'lopez',\n",
       " 'solangel',\n",
       " 'sierra',\n",
       " 'rodriguez',\n",
       " 'titulo',\n",
       " 'tejer',\n",
       " 'saber',\n",
       " 'guatecano',\n",
       " 'necesario',\n",
       " 'estudiante',\n",
       " 'reconocer',\n",
       " 'entorno',\n",
       " 'familiar',\n",
       " 'social',\n",
       " 'cultural',\n",
       " 'natural',\n",
       " 'partir',\n",
       " 'saber',\n",
       " 'popular',\n",
       " 'fortalecer',\n",
       " 'habilidad',\n",
       " 'socioemocional',\n",
       " 'objetivo',\n",
       " 'aprendizaje',\n",
       " 'reconocer',\n",
       " 'valorar',\n",
       " 'entorno',\n",
       " 'saber',\n",
       " 'popular',\n",
       " 'region',\n",
       " 'fortalecer',\n",
       " 'autoestima',\n",
       " 'estudiante',\n",
       " 'partir',\n",
       " 'identidad',\n",
       " 'region',\n",
       " 'incrementar',\n",
       " 'uso',\n",
       " 'apropiacion',\n",
       " 'herramienta',\n",
       " 'tecnologica',\n",
       " 'educacion',\n",
       " 'fomentar',\n",
       " 'investigacion',\n",
       " 'competencia',\n",
       " 'ciudadana',\n",
       " 'competencia',\n",
       " 'comunicativo',\n",
       " 'habilidad',\n",
       " 'socioemocional',\n",
       " 'construccion',\n",
       " 'proyecto',\n",
       " 'vida',\n",
       " 'estudiante',\n",
       " 'competencia',\n",
       " 'desarrollar',\n",
       " 'ciudadana',\n",
       " 'investigativa',\n",
       " 'socioemocional',\n",
       " 'comunicativo',\n",
       " 'recurso',\n",
       " 'recurso',\n",
       " 'humano',\n",
       " 'estudiante',\n",
       " 'equipo',\n",
       " 'trabajo',\n",
       " 'docente',\n",
       " 'padre',\n",
       " 'directivo',\n",
       " 'comunidad',\n",
       " 'general',\n",
       " 'recurso',\n",
       " 'tecnologico',\n",
       " 'internet',\n",
       " 'computador',\n",
       " 'celular',\n",
       " 'equipo',\n",
       " 'encontrado',\n",
       " 'hogar',\n",
       " 'estudiante',\n",
       " 'encuentro',\n",
       " 'sincronico',\n",
       " 'asincronico',\n",
       " 'ova',\n",
       " 'rec',\n",
       " 'disenar',\n",
       " 'blog',\n",
       " 'presentacion',\n",
       " 'recurso',\n",
       " 'educativo',\n",
       " 'digital',\n",
       " 'red',\n",
       " 'objeto',\n",
       " 'virtual',\n",
       " 'aprendizaje',\n",
       " 'disenado',\n",
       " 'docente',\n",
       " 'mes',\n",
       " 'duracion',\n",
       " 'curso',\n",
       " 'acompanamiento',\n",
       " 'fortalecimiento',\n",
       " 'competencia',\n",
       " 'investigativa',\n",
       " 'tecnologica',\n",
       " 'pedagogica',\n",
       " 'docente',\n",
       " 'sector',\n",
       " 'oficial',\n",
       " 'educacion',\n",
       " 'preescolar',\n",
       " 'basicar',\n",
       " 'medio',\n",
       " 'adema',\n",
       " 'actividad',\n",
       " 'guia',\n",
       " 'aprendizaje',\n",
       " 'crucigrama',\n",
       " 'sopa',\n",
       " 'letra',\n",
       " 'juego',\n",
       " 'educativo',\n",
       " 'video',\n",
       " 'encontrado',\n",
       " 'web',\n",
       " 'acerca',\n",
       " 'tema',\n",
       " 'realizar',\n",
       " 'collage',\n",
       " 'actividad',\n",
       " 'padlet',\n",
       " 'aporte',\n",
       " 'estudiante',\n",
       " 'cada',\n",
       " 'etapa',\n",
       " 'generar',\n",
       " 'contenido',\n",
       " 'aprendizaje',\n",
       " 'partir',\n",
       " 'video',\n",
       " 'cuento',\n",
       " 'propuesta',\n",
       " 'identidad',\n",
       " 'guatecán',\n",
       " 'anexan',\n",
       " 'blog',\n",
       " 'cada',\n",
       " 'etapa',\n",
       " 'realizar',\n",
       " 'etapa',\n",
       " 'consolidacion',\n",
       " 'aprendizaje',\n",
       " 'partir',\n",
       " 'evaluacion',\n",
       " 'formativo',\n",
       " 'garantizar',\n",
       " 'seguimiento',\n",
       " 'proceso',\n",
       " 'analisis',\n",
       " 'particular',\n",
       " 'parte',\n",
       " 'estudiante',\n",
       " 'realizar',\n",
       " 'evaluacion',\n",
       " 'cada',\n",
       " 'etapa',\n",
       " 'contenido',\n",
       " 'blog',\n",
       " 'realizar',\n",
       " 'analisis',\n",
       " 'estadistica',\n",
       " 'arrojado',\n",
       " 'verificar',\n",
       " 'efectividad',\n",
       " 'socializar',\n",
       " 'propuesta',\n",
       " 'tecnologico',\n",
       " 'aplicar',\n",
       " 'encuesta',\n",
       " 'virtual',\n",
       " 'comunidad',\n",
       " 'padre',\n",
       " 'familia',\n",
       " 'garantizar',\n",
       " 'uso',\n",
       " 'efectivo',\n",
       " 'material',\n",
       " 'digital',\n",
       " 'impacto',\n",
       " 'generar',\n",
       " 'si',\n",
       " 'cada',\n",
       " 'etapa',\n",
       " 'propuesta',\n",
       " 'incluiran',\n",
       " 'actividad',\n",
       " 'podcast',\n",
       " 'poblacion',\n",
       " 'necesidad',\n",
       " 'apoyo',\n",
       " 'visual',\n",
       " 'adaptacion',\n",
       " 'video',\n",
       " 'lengua',\n",
       " 'sena',\n",
       " 'poblacion',\n",
       " 'necesidad',\n",
       " 'apoyo',\n",
       " 'auditiva',\n",
       " 'expectativa',\n",
       " 'fortalecer',\n",
       " 'uso',\n",
       " 'tecnologia',\n",
       " 'informatico',\n",
       " 'comunicacion',\n",
       " 'estudiante',\n",
       " 'preescolar',\n",
       " 'primario',\n",
       " 'rural',\n",
       " 'institucion',\n",
       " 'educativo',\n",
       " 'tecnicar',\n",
       " 'enrique',\n",
       " 'olair',\n",
       " 'herrerar']"
      ]
     },
     "execution_count": 27,
     "metadata": {},
     "output_type": "execute_result"
    }
   ],
   "source": [
    "data.loc[1, 'pre_procesado']"
   ]
  },
  {
   "cell_type": "code",
   "execution_count": 29,
   "id": "c3422e50",
   "metadata": {},
   "outputs": [],
   "source": [
    "import gensim\n",
    "import gensim.corpora as corpora\n",
    "from gensim.utils import simple_preprocess\n",
    "from gensim.models import CoherenceModel\n",
    "import pyLDAvis.gensim_models\n",
    "from gensim.models import LdaModel \n",
    "from gensim.corpora import Dictionary\n",
    "from pprint import pprint"
   ]
  },
  {
   "cell_type": "code",
   "execution_count": 30,
   "id": "943a4092",
   "metadata": {},
   "outputs": [
    {
     "name": "stderr",
     "output_type": "stream",
     "text": [
      "C:\\Users\\Brayam Pineda\\anaconda3\\lib\\site-packages\\ipykernel\\ipkernel.py:287: DeprecationWarning: `should_run_async` will not call `transform_cell` automatically in the future. Please pass the result to `transformed_cell` argument and any exception that happen during thetransform in `preprocessing_exc_tuple` in IPython 7.17 and above.\n",
      "  and should_run_async(code)\n"
     ]
    }
   ],
   "source": [
    "# Build the bigram and trigram models\n",
    "bigram = gensim.models.Phrases(data[\"pre_procesado\"], min_count=5, threshold=100) # higher threshold fewer phrases.\n",
    "trigram = gensim.models.Phrases(bigram[data[\"pre_procesado\"]], threshold=100)  \n",
    "\n",
    "# Faster way to get a sentence clubbed as a trigram/bigram\n",
    "bigram_mod = gensim.models.phrases.Phraser(bigram)\n",
    "trigram_mod = gensim.models.phrases.Phraser(trigram)"
   ]
  },
  {
   "cell_type": "code",
   "execution_count": 31,
   "id": "82904f97",
   "metadata": {},
   "outputs": [
    {
     "name": "stderr",
     "output_type": "stream",
     "text": [
      "C:\\Users\\Brayam Pineda\\anaconda3\\lib\\site-packages\\ipykernel\\ipkernel.py:287: DeprecationWarning: `should_run_async` will not call `transform_cell` automatically in the future. Please pass the result to `transformed_cell` argument and any exception that happen during thetransform in `preprocessing_exc_tuple` in IPython 7.17 and above.\n",
      "  and should_run_async(code)\n"
     ]
    }
   ],
   "source": [
    "def make_bigrams(texts):\n",
    "    return [bigram_mod[doc] for doc in texts]\n",
    "def make_trigrams(texts):\n",
    "    return [trigram_mod[bigram_mod[doc]] for doc in texts]"
   ]
  },
  {
   "cell_type": "code",
   "execution_count": 32,
   "id": "77434a58",
   "metadata": {},
   "outputs": [
    {
     "name": "stdout",
     "output_type": "stream",
     "text": [
      "Wall time: 156 ms\n"
     ]
    },
    {
     "name": "stderr",
     "output_type": "stream",
     "text": [
      "C:\\Users\\Brayam Pineda\\anaconda3\\lib\\site-packages\\ipykernel\\ipkernel.py:287: DeprecationWarning: `should_run_async` will not call `transform_cell` automatically in the future. Please pass the result to `transformed_cell` argument and any exception that happen during thetransform in `preprocessing_exc_tuple` in IPython 7.17 and above.\n",
      "  and should_run_async(code)\n"
     ]
    }
   ],
   "source": [
    "%%time\n",
    "# Form Bigrams\n",
    "data[\"pre_procesado\"] = make_bigrams(data[\"pre_procesado\"])"
   ]
  },
  {
   "cell_type": "code",
   "execution_count": 33,
   "id": "44d39a1f",
   "metadata": {},
   "outputs": [
    {
     "name": "stderr",
     "output_type": "stream",
     "text": [
      "C:\\Users\\Brayam Pineda\\anaconda3\\lib\\site-packages\\ipykernel\\ipkernel.py:287: DeprecationWarning: `should_run_async` will not call `transform_cell` automatically in the future. Please pass the result to `transformed_cell` argument and any exception that happen during thetransform in `preprocessing_exc_tuple` in IPython 7.17 and above.\n",
      "  and should_run_async(code)\n"
     ]
    }
   ],
   "source": [
    "# Crear una represantación de los documentos en forma de diccionario\n",
    "dictionary = Dictionary(data['pre_procesado'].values)\n",
    "\n",
    "# Filtrar palabras muy frecuentes o infrecuentes\n",
    "dictionary.filter_extremes(no_below=5, no_above=0.5) \n",
    "\n",
    "# Corpus\n",
    "corpus = [dictionary.doc2bow(text) for text in data['pre_procesado'].values]"
   ]
  },
  {
   "cell_type": "code",
   "execution_count": 34,
   "id": "82d517ed",
   "metadata": {},
   "outputs": [
    {
     "name": "stderr",
     "output_type": "stream",
     "text": [
      "C:\\Users\\Brayam Pineda\\anaconda3\\lib\\site-packages\\ipykernel\\ipkernel.py:287: DeprecationWarning: `should_run_async` will not call `transform_cell` automatically in the future. Please pass the result to `transformed_cell` argument and any exception that happen during thetransform in `preprocessing_exc_tuple` in IPython 7.17 and above.\n",
      "  and should_run_async(code)\n"
     ]
    }
   ],
   "source": [
    "# Funcion para encontrar el numero optimo de topicos\n",
    "\n",
    "def compute_coherence_values_lda(dictionary, corpus, texts, limit, start=2, step=3):\n",
    "    \"\"\"\n",
    "    Compute c_v coherence for various number of topics\n",
    "\n",
    "    Parameters:\n",
    "    ----------\n",
    "    dictionary : Gensim dictionary\n",
    "    corpus : Gensim corpus\n",
    "    texts : List of input texts\n",
    "    limit : Max num of topics\n",
    "\n",
    "    Returns:\n",
    "    -------\n",
    "    model_list : List of LDA topic models\n",
    "    coherence_values : Coherence values corresponding to the LDA model with respective number of topics\n",
    "    \"\"\"\n",
    "    coherence_values = []\n",
    "    model_list = []\n",
    "    for num_topics in range(start, limit, step):\n",
    "        # model = gensim.models.wrappers.LdaMallet(mallet_path, corpus=corpus, num_topics=num_topics, id2word=dictionary)\n",
    "        model = LdaModel(corpus = corpus, id2word = dictionary, num_topics = num_topics, \n",
    "                random_state=100, update_every=1,\n",
    "                chunksize=100, passes=10, alpha=0.1, eta=0.01,\n",
    "                per_word_topics=True)\n",
    "        model_list.append(model)\n",
    "        coherencemodel = CoherenceModel(model=model, texts=texts, dictionary=dictionary, coherence='c_v')\n",
    "        coherence_values.append(coherencemodel.get_coherence())\n",
    "\n",
    "    return model_list, coherence_values"
   ]
  },
  {
   "cell_type": "code",
   "execution_count": 35,
   "id": "4c495e75",
   "metadata": {},
   "outputs": [
    {
     "name": "stderr",
     "output_type": "stream",
     "text": [
      "C:\\Users\\Brayam Pineda\\anaconda3\\lib\\site-packages\\ipykernel\\ipkernel.py:287: DeprecationWarning: `should_run_async` will not call `transform_cell` automatically in the future. Please pass the result to `transformed_cell` argument and any exception that happen during thetransform in `preprocessing_exc_tuple` in IPython 7.17 and above.\n",
      "  and should_run_async(code)\n"
     ]
    },
    {
     "name": "stdout",
     "output_type": "stream",
     "text": [
      "Wall time: 5min 3s\n"
     ]
    }
   ],
   "source": [
    "%%time\n",
    "model_list_lda, coherence_values_lda = compute_coherence_values_lda(dictionary=dictionary, \n",
    "                                                                    corpus=corpus, texts=data['pre_procesado'], \n",
    "                                                                    start=2, limit=60, step=1)"
   ]
  },
  {
   "cell_type": "code",
   "execution_count": 37,
   "id": "79ef897b",
   "metadata": {},
   "outputs": [
    {
     "name": "stderr",
     "output_type": "stream",
     "text": [
      "C:\\Users\\Brayam Pineda\\anaconda3\\lib\\site-packages\\ipykernel\\ipkernel.py:287: DeprecationWarning: `should_run_async` will not call `transform_cell` automatically in the future. Please pass the result to `transformed_cell` argument and any exception that happen during thetransform in `preprocessing_exc_tuple` in IPython 7.17 and above.\n",
      "  and should_run_async(code)\n"
     ]
    }
   ],
   "source": [
    "import matplotlib.pyplot as plt"
   ]
  },
  {
   "cell_type": "code",
   "execution_count": 48,
   "id": "72204263",
   "metadata": {},
   "outputs": [
    {
     "name": "stderr",
     "output_type": "stream",
     "text": [
      "C:\\Users\\Brayam Pineda\\anaconda3\\lib\\site-packages\\ipykernel\\ipkernel.py:287: DeprecationWarning: `should_run_async` will not call `transform_cell` automatically in the future. Please pass the result to `transformed_cell` argument and any exception that happen during thetransform in `preprocessing_exc_tuple` in IPython 7.17 and above.\n",
      "  and should_run_async(code)\n"
     ]
    },
    {
     "data": {
      "image/png": "[encoded data removed]",
      "text/plain": [
       "<Figure size 432x288 with 1 Axes>"
      ]
     },
     "metadata": {
      "needs_background": "light"
     },
     "output_type": "display_data"
    }
   ],
   "source": [
    "# Show graph\n",
    "limit=60; start=2; step=1;\n",
    "x = range(start, limit, step)\n",
    "plt.plot(x, coherence_values_lda)\n",
    "plt.xlabel(\"Num Topics\")\n",
    "plt.ylabel(\"Coherence score\")\n",
    "plt.legend((\"coherence_values\"), loc='best')\n",
    "plt.show()"
   ]
  }
 ],
 "metadata": {
  "kernelspec": {
   "display_name": "Python 3",
   "language": "python",
   "name": "python3"
  },
  "language_info": {
   "codemirror_mode": {
    "name": "ipython",
    "version": 3
   },
   "file_extension": ".py",
   "mimetype": "text/x-python",
   "name": "python",
   "nbconvert_exporter": "python",
   "pygments_lexer": "ipython3",
   "version": "3.8.5"
  }
 },
 "nbformat": 4,
 "nbformat_minor": 5
}
